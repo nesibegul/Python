{
 "cells": [
  {
   "cell_type": "code",
   "execution_count": 14,
   "id": "aaa3084f",
   "metadata": {},
   "outputs": [
    {
     "name": "stdout",
     "output_type": "stream",
     "text": [
      "Requirement already satisfied: pymupdf in d:\\anaconda\\lib\\site-packages (1.19.6)\n"
     ]
    }
   ],
   "source": [
    "!pip install pymupdf"
   ]
  },
  {
   "cell_type": "code",
   "execution_count": 98,
   "id": "78aba68b",
   "metadata": {},
   "outputs": [
    {
     "data": {
      "text/plain": [
       "'C:\\\\Users\\\\User\\\\Downloads\\\\same-resume-year-wise-master'"
      ]
     },
     "execution_count": 98,
     "metadata": {},
     "output_type": "execute_result"
    }
   ],
   "source": [
    "import os\n",
    "os.getcwd()"
   ]
  },
  {
   "cell_type": "code",
   "execution_count": 99,
   "id": "05c5b0fa",
   "metadata": {},
   "outputs": [],
   "source": [
    "def file_list(path):\n",
    "    files = [f for f in os.listdir('.') if os.path.isfile(f)]\n",
    "    files = filter(lambda f: f.endswith(('.pdf','.docx', '.doc')), files)\n",
    "    return files"
   ]
  },
  {
   "cell_type": "code",
   "execution_count": 100,
   "id": "2710b393",
   "metadata": {},
   "outputs": [],
   "source": [
    "files = file_list(os.getcwd())"
   ]
  },
  {
   "cell_type": "code",
   "execution_count": 101,
   "id": "e3060130",
   "metadata": {},
   "outputs": [],
   "source": [
    "myfiles = list(files)"
   ]
  },
  {
   "cell_type": "code",
   "execution_count": 102,
   "id": "9668d2ae",
   "metadata": {},
   "outputs": [
    {
     "data": {
      "text/plain": [
       "['12+ (2).docx',\n",
       " '12+.docx',\n",
       " '15+ (1).pdf',\n",
       " '15+.pdf',\n",
       " '20.pdf',\n",
       " '3+ (2).docx',\n",
       " '3+.docx',\n",
       " '3+.pdf',\n",
       " '4 .doc',\n",
       " '4+.docx',\n",
       " '5+ .pdf',\n",
       " '5+.pdf',\n",
       " '5.pdf',\n",
       " '6+.pdf',\n",
       " '7+.pdf',\n",
       " '8+.docx',\n",
       " '8+.pdf',\n",
       " 'freasher .pdf',\n",
       " 'mteh fresher.pdf',\n",
       " '~$4 .doc']"
      ]
     },
     "execution_count": 102,
     "metadata": {},
     "output_type": "execute_result"
    }
   ],
   "source": [
    "myfiles"
   ]
  },
  {
   "cell_type": "code",
   "execution_count": 103,
   "id": "b4c2fcbc",
   "metadata": {},
   "outputs": [],
   "source": [
    "import fitz\n",
    "import textract\n",
    "import itertools # this is pymupdf\n",
    "content1 = {}\n",
    "for file in myfiles:\n",
    "    if file.endswith(\".pdf\"):\n",
    "        with fitz.open(file) as doc:\n",
    "            text = \"\"\n",
    "            for page in doc:\n",
    "                text += page.get_text()\n",
    "        content1[file]  = text.split(\"\\n\")\n",
    "    if file.endswith(\".docx\"):\n",
    "        text = \"\"\n",
    "        text = textract.process(\"C:\\\\Users\\\\User\\\\Downloads\\\\same-resume-year-wise-master\\\\\" + file)\n",
    "        text = text.decode(\"utf-8\")\n",
    "        content1[file]  = text.split(\"\\n\")"
   ]
  },
  {
   "cell_type": "code",
   "execution_count": 104,
   "id": "9726046f",
   "metadata": {},
   "outputs": [
    {
     "data": {
      "text/plain": [
       "dict_keys(['12+ (2).docx', '12+.docx', '15+ (1).pdf', '15+.pdf', '20.pdf', '3+ (2).docx', '3+.docx', '3+.pdf', '4+.docx', '5+ .pdf', '5+.pdf', '5.pdf', '6+.pdf', '7+.pdf', '8+.docx', '8+.pdf', 'freasher .pdf', 'mteh fresher.pdf'])"
      ]
     },
     "execution_count": 104,
     "metadata": {},
     "output_type": "execute_result"
    }
   ],
   "source": [
    "content1.keys()"
   ]
  },
  {
   "cell_type": "code",
   "execution_count": 105,
   "id": "6dc61507",
   "metadata": {},
   "outputs": [
    {
     "name": "stdout",
     "output_type": "stream",
     "text": [
      "https://github.com/sandeepdasc1\n",
      "https://github.com/AbhijitManepatil\n"
     ]
    }
   ],
   "source": [
    "import re\n",
    "git_address = {}\n",
    "pattern = re.compile(r'github')\n",
    "for file in content1.keys():\n",
    "    k = []\n",
    "    k.extend(content1[file])\n",
    "    for i in k: \n",
    "        if re.findall(pattern, i):\n",
    "            print(i)\n",
    "            git_address[file] = i\n",
    "            break\n",
    "        else:\n",
    "            git_address[file] = \"NaN\""
   ]
  },
  {
   "cell_type": "code",
   "execution_count": 106,
   "id": "c60f2d5b",
   "metadata": {},
   "outputs": [
    {
     "name": "stdout",
     "output_type": "stream",
     "text": [
      "www.linkedin.com/in/pulavarthy-s-321a92152/\n"
     ]
    }
   ],
   "source": [
    "linkedin_address = {}\n",
    "pattern = re.compile(r'linkedin')\n",
    "for file in content1.keys():\n",
    "    k = []\n",
    "    k.extend(content1[file])\n",
    "    for i in k: \n",
    "        if re.findall(pattern, i):\n",
    "            print(i)\n",
    "            linkedin_address[file] = i\n",
    "            break\n",
    "        else:\n",
    "            linkedin_address[file] = \"NaN\""
   ]
  },
  {
   "cell_type": "code",
   "execution_count": 107,
   "id": "54415817",
   "metadata": {},
   "outputs": [
    {
     "data": {
      "text/plain": [
       "dict_values(['NaN', 'www.linkedin.com/in/pulavarthy-s-321a92152/', 'NaN', 'NaN', 'NaN', 'NaN', 'NaN', 'NaN', 'NaN', 'NaN', 'NaN', 'NaN', 'NaN', 'NaN', 'NaN', 'NaN', 'NaN', 'NaN'])"
      ]
     },
     "execution_count": 107,
     "metadata": {},
     "output_type": "execute_result"
    }
   ],
   "source": [
    "linkedin_address.values()"
   ]
  },
  {
   "cell_type": "code",
   "execution_count": 108,
   "id": "b84a34ca",
   "metadata": {},
   "outputs": [],
   "source": [
    "email_address = {}\n",
    "pattern = re.compile(r'@[a-zA-Z].{2,3,4}')\n",
    "for file in content1.keys():\n",
    "    k = []\n",
    "    k.extend(content1[file])\n",
    "    for i in k: \n",
    "        if re.findall(pattern, i):\n",
    "            print(i)\n",
    "            email_address[file] = i\n",
    "            break\n",
    "        else:\n",
    "            email_address[file] = \"NaN\""
   ]
  },
  {
   "cell_type": "code",
   "execution_count": 109,
   "id": "35d4c0a2",
   "metadata": {},
   "outputs": [
    {
     "data": {
      "text/plain": [
       "{'12+ (2).docx': 'NaN',\n",
       " '12+.docx': 'NaN',\n",
       " '15+ (1).pdf': 'NaN',\n",
       " '15+.pdf': 'NaN',\n",
       " '20.pdf': 'NaN',\n",
       " '3+ (2).docx': 'NaN',\n",
       " '3+.docx': 'NaN',\n",
       " '3+.pdf': 'NaN',\n",
       " '4+.docx': 'NaN',\n",
       " '5+ .pdf': 'NaN',\n",
       " '5+.pdf': 'NaN',\n",
       " '5.pdf': 'NaN',\n",
       " '6+.pdf': 'NaN',\n",
       " '7+.pdf': 'NaN',\n",
       " '8+.docx': 'NaN',\n",
       " '8+.pdf': 'NaN',\n",
       " 'freasher .pdf': 'NaN',\n",
       " 'mteh fresher.pdf': 'NaN'}"
      ]
     },
     "execution_count": 109,
     "metadata": {},
     "output_type": "execute_result"
    }
   ],
   "source": [
    "email_address"
   ]
  },
  {
   "cell_type": "code",
   "execution_count": 110,
   "id": "c70e04d0",
   "metadata": {},
   "outputs": [],
   "source": [
    "import pandas as pd"
   ]
  },
  {
   "cell_type": "code",
   "execution_count": 111,
   "id": "90ca54f7",
   "metadata": {},
   "outputs": [],
   "source": [
    "df = pd.DataFrame({\"resume_files\": email_address.keys(), \"email_id\": email_address.values(), \"linkedin_id\" : linkedin_address.values(), \"git_address\" : git_address.values()})"
   ]
  },
  {
   "cell_type": "code",
   "execution_count": 112,
   "id": "27a988b4",
   "metadata": {},
   "outputs": [],
   "source": [
    "df.set_index(\"resume_files\", inplace = True)"
   ]
  },
  {
   "cell_type": "code",
   "execution_count": 113,
   "id": "b671210c",
   "metadata": {},
   "outputs": [
    {
     "data": {
      "text/html": [
       "<div>\n",
       "<style scoped>\n",
       "    .dataframe tbody tr th:only-of-type {\n",
       "        vertical-align: middle;\n",
       "    }\n",
       "\n",
       "    .dataframe tbody tr th {\n",
       "        vertical-align: top;\n",
       "    }\n",
       "\n",
       "    .dataframe thead th {\n",
       "        text-align: right;\n",
       "    }\n",
       "</style>\n",
       "<table border=\"1\" class=\"dataframe\">\n",
       "  <thead>\n",
       "    <tr style=\"text-align: right;\">\n",
       "      <th></th>\n",
       "      <th>email_id</th>\n",
       "      <th>linkedin_id</th>\n",
       "      <th>git_address</th>\n",
       "    </tr>\n",
       "    <tr>\n",
       "      <th>resume_files</th>\n",
       "      <th></th>\n",
       "      <th></th>\n",
       "      <th></th>\n",
       "    </tr>\n",
       "  </thead>\n",
       "  <tbody>\n",
       "    <tr>\n",
       "      <th>12+ (2).docx</th>\n",
       "      <td>NaN</td>\n",
       "      <td>NaN</td>\n",
       "      <td>NaN</td>\n",
       "    </tr>\n",
       "    <tr>\n",
       "      <th>12+.docx</th>\n",
       "      <td>NaN</td>\n",
       "      <td>www.linkedin.com/in/pulavarthy-s-321a92152/</td>\n",
       "      <td>https://github.com/sandeepdasc1</td>\n",
       "    </tr>\n",
       "    <tr>\n",
       "      <th>15+ (1).pdf</th>\n",
       "      <td>NaN</td>\n",
       "      <td>NaN</td>\n",
       "      <td>NaN</td>\n",
       "    </tr>\n",
       "    <tr>\n",
       "      <th>15+.pdf</th>\n",
       "      <td>NaN</td>\n",
       "      <td>NaN</td>\n",
       "      <td>NaN</td>\n",
       "    </tr>\n",
       "    <tr>\n",
       "      <th>20.pdf</th>\n",
       "      <td>NaN</td>\n",
       "      <td>NaN</td>\n",
       "      <td>NaN</td>\n",
       "    </tr>\n",
       "    <tr>\n",
       "      <th>3+ (2).docx</th>\n",
       "      <td>NaN</td>\n",
       "      <td>NaN</td>\n",
       "      <td>NaN</td>\n",
       "    </tr>\n",
       "    <tr>\n",
       "      <th>3+.docx</th>\n",
       "      <td>NaN</td>\n",
       "      <td>NaN</td>\n",
       "      <td>NaN</td>\n",
       "    </tr>\n",
       "    <tr>\n",
       "      <th>3+.pdf</th>\n",
       "      <td>NaN</td>\n",
       "      <td>NaN</td>\n",
       "      <td>NaN</td>\n",
       "    </tr>\n",
       "    <tr>\n",
       "      <th>4+.docx</th>\n",
       "      <td>NaN</td>\n",
       "      <td>NaN</td>\n",
       "      <td>NaN</td>\n",
       "    </tr>\n",
       "    <tr>\n",
       "      <th>5+ .pdf</th>\n",
       "      <td>NaN</td>\n",
       "      <td>NaN</td>\n",
       "      <td>https://github.com/AbhijitManepatil</td>\n",
       "    </tr>\n",
       "    <tr>\n",
       "      <th>5+.pdf</th>\n",
       "      <td>NaN</td>\n",
       "      <td>NaN</td>\n",
       "      <td>NaN</td>\n",
       "    </tr>\n",
       "    <tr>\n",
       "      <th>5.pdf</th>\n",
       "      <td>NaN</td>\n",
       "      <td>NaN</td>\n",
       "      <td>NaN</td>\n",
       "    </tr>\n",
       "    <tr>\n",
       "      <th>6+.pdf</th>\n",
       "      <td>NaN</td>\n",
       "      <td>NaN</td>\n",
       "      <td>NaN</td>\n",
       "    </tr>\n",
       "    <tr>\n",
       "      <th>7+.pdf</th>\n",
       "      <td>NaN</td>\n",
       "      <td>NaN</td>\n",
       "      <td>NaN</td>\n",
       "    </tr>\n",
       "    <tr>\n",
       "      <th>8+.docx</th>\n",
       "      <td>NaN</td>\n",
       "      <td>NaN</td>\n",
       "      <td>NaN</td>\n",
       "    </tr>\n",
       "    <tr>\n",
       "      <th>8+.pdf</th>\n",
       "      <td>NaN</td>\n",
       "      <td>NaN</td>\n",
       "      <td>NaN</td>\n",
       "    </tr>\n",
       "    <tr>\n",
       "      <th>freasher .pdf</th>\n",
       "      <td>NaN</td>\n",
       "      <td>NaN</td>\n",
       "      <td>NaN</td>\n",
       "    </tr>\n",
       "    <tr>\n",
       "      <th>mteh fresher.pdf</th>\n",
       "      <td>NaN</td>\n",
       "      <td>NaN</td>\n",
       "      <td>NaN</td>\n",
       "    </tr>\n",
       "  </tbody>\n",
       "</table>\n",
       "</div>"
      ],
      "text/plain": [
       "                 email_id                                  linkedin_id  \\\n",
       "resume_files                                                             \n",
       "12+ (2).docx          NaN                                          NaN   \n",
       "12+.docx              NaN  www.linkedin.com/in/pulavarthy-s-321a92152/   \n",
       "15+ (1).pdf           NaN                                          NaN   \n",
       "15+.pdf               NaN                                          NaN   \n",
       "20.pdf                NaN                                          NaN   \n",
       "3+ (2).docx           NaN                                          NaN   \n",
       "3+.docx               NaN                                          NaN   \n",
       "3+.pdf                NaN                                          NaN   \n",
       "4+.docx               NaN                                          NaN   \n",
       "5+ .pdf               NaN                                          NaN   \n",
       "5+.pdf                NaN                                          NaN   \n",
       "5.pdf                 NaN                                          NaN   \n",
       "6+.pdf                NaN                                          NaN   \n",
       "7+.pdf                NaN                                          NaN   \n",
       "8+.docx               NaN                                          NaN   \n",
       "8+.pdf                NaN                                          NaN   \n",
       "freasher .pdf         NaN                                          NaN   \n",
       "mteh fresher.pdf      NaN                                          NaN   \n",
       "\n",
       "                                          git_address  \n",
       "resume_files                                           \n",
       "12+ (2).docx                                      NaN  \n",
       "12+.docx              https://github.com/sandeepdasc1  \n",
       "15+ (1).pdf                                       NaN  \n",
       "15+.pdf                                           NaN  \n",
       "20.pdf                                            NaN  \n",
       "3+ (2).docx                                       NaN  \n",
       "3+.docx                                           NaN  \n",
       "3+.pdf                                            NaN  \n",
       "4+.docx                                           NaN  \n",
       "5+ .pdf           https://github.com/AbhijitManepatil  \n",
       "5+.pdf                                            NaN  \n",
       "5.pdf                                             NaN  \n",
       "6+.pdf                                            NaN  \n",
       "7+.pdf                                            NaN  \n",
       "8+.docx                                           NaN  \n",
       "8+.pdf                                            NaN  \n",
       "freasher .pdf                                     NaN  \n",
       "mteh fresher.pdf                                  NaN  "
      ]
     },
     "execution_count": 113,
     "metadata": {},
     "output_type": "execute_result"
    }
   ],
   "source": [
    "df"
   ]
  },
  {
   "cell_type": "code",
   "execution_count": null,
   "id": "deba62a2",
   "metadata": {},
   "outputs": [],
   "source": []
  },
  {
   "cell_type": "code",
   "execution_count": null,
   "id": "d31520c7",
   "metadata": {},
   "outputs": [],
   "source": []
  }
 ],
 "metadata": {
  "kernelspec": {
   "display_name": "Python 3 (ipykernel)",
   "language": "python",
   "name": "python3"
  },
  "language_info": {
   "codemirror_mode": {
    "name": "ipython",
    "version": 3
   },
   "file_extension": ".py",
   "mimetype": "text/x-python",
   "name": "python",
   "nbconvert_exporter": "python",
   "pygments_lexer": "ipython3",
   "version": "3.9.7"
  }
 },
 "nbformat": 4,
 "nbformat_minor": 5
}
